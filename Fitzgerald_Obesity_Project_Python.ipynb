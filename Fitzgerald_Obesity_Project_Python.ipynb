{
 "cells": [
  {
   "cell_type": "markdown",
   "id": "10fb2070-c24c-4fe7-82df-0f4367bc7ce9",
   "metadata": {},
   "source": [
    "### BUS672 PROJECT\n",
    "\n",
    "**Part One:** Project Proposal<br>\n",
    "**Part Two:** Data Wrangling<br>\n",
    "**Part Three:** Initial Data Analysis<br>\n",
    "**Part Four:** Final Report and Presentation<br>"
   ]
  },
  {
   "cell_type": "markdown",
   "id": "043e66b4-ca43-4140-aec9-64ec3ad58eb2",
   "metadata": {},
   "source": [
    "### PART ONE: PROJECT PROPOSAL\n",
    "\n",
    "##### Introductory and background information sufficient to understand the project idea.\n",
    "Obesity has become a crisis in the United States. “From 1999 –2000 through 2017–March 2020, US obesity prevalence increased from 30.5% to 41.9%. During the same time, the prevalence of severe obesity increased from 4.7% to 9.2% (CDC, 2022).” Diet and exercise play a huge role in reducing the risk of obesity, but it requires adopting an ongoing lifestyle change. The benefit of good nutrition and exercise not only reduces the risk of obesity, but it may also reduce the risk of serious medical conditions such a cardiovascular disease and diabetes which are leading causes of premature death (CDC, 2022).\n",
    "\n",
    "##### Description of the problem or objective of the project and why it is important to address this problem/objective.\n",
    "Obesity not only affects the individual from a health standpoint, it has an economic effect to the US population. “The estimated annual medical cost of obesity in the United States was nearly \\\\$173 billion in 2019 dollars. Medical costs for adults who had obesity were \\\\$1,861 higher than medical costs for people with healthy weight (CDC, 2022).” It is important to address obesity to improve individual health, reduce the risk of serious medical conditions, and improve the economic effect to the individual and the U.S. population. Understanding how physical exercise affects obesity could help educate the community of its importance in reducing health risk.\n",
    "\n",
    "##### Reason for selecting this project and its link to your professional goals.\n",
    "I am selecting this project because I am very interested in the topic of exercise and how it affects community health. I haven’t defined my professional goal, but I may be interested in the health industry.\n",
    "\n",
    "##### The organization you are working with and documented management approval to work on this project (only required if working with an organization).  If you are not working with an organization, state that (so I know approval is not needed).\n",
    "I am not working with an organization. This analysis is for personal interest. I will be using public-access data from the U.S. Government Department of Health and Human Services.\n",
    "\n",
    "##### Description of the key variables that you will need to perform the analysis, as well as a description of how and when you plan to obtain the data from the sources.\n",
    "I have already obtained the dataset from www.healthdata.gov by download. The key variables from the dataset are the survey question responses about obesity and physical exercise. There are other variables in the dataset that could be included but I have not determined which ones to include yet. I will only be using the most recent data for years 2020-2022. The dataset begins in 2011 and is regularly updated.\n",
    "\n",
    "\n",
    "**REFERENCES**<br>\n",
    "Centers for Disease Control and Prevention. (2022, July 22). Adult obesity facts. Centers for Disease Control and Prevention. https://www.cdc.gov/obesity/data/adult.html\n"
   ]
  },
  {
   "cell_type": "markdown",
   "id": "1ee852c6-ff12-4941-a4fb-7e84246a5edb",
   "metadata": {},
   "source": [
    "### PART TWO: DATA WRANGLING\n",
    "\n",
    "* Data file in CSV or Excel format\n",
    "* Data dictionary that documents dataset and data wrangling activities\n",
    "* Code that shows data wrangling"
   ]
  },
  {
   "cell_type": "markdown",
   "id": "d84f1f42-9e58-40e0-b0d6-0fee4855a9b9",
   "metadata": {},
   "source": [
    "#### Obtain dataset\n",
    "\n",
    "FILES\n",
    "\n",
    "* Data file: Data_HHS.csv\n",
    "* Data file: Data_HHS_CLEANED.csv\n",
    "* Jupyter notebook: Project_Data_Cleanup.jpynb\n",
    "* Data dictionary: Project Data Dictionary ORIGINAL DATA.xlsx\n",
    "* Data dictionary: Project Data Dictionary CLEANED DATA.xlsx\n",
    "\n",
    "The original data file **Data_HHS.csv** was downloaded from www.healthdata.gov."
   ]
  },
  {
   "cell_type": "markdown",
   "id": "2c8d2026-d79a-4196-bfeb-e4f62aaf0e70",
   "metadata": {},
   "source": [
    "#### Data wrangling in separate notebook\n",
    "Please see Jupyter Notebook **Project_Data_Cleanup.jpynb** for data wrangling code of data file HHS_data.csv.<br>\n",
    "Cleaned data file saved as a new file **Data_HHS_CLEANED.csv**.\n",
    "\n",
    "#### Proposal update\n",
    "While doing the data cleaning, I noticed that the questions in the survey were not universally included in all survey years. Since I want to do an analysis that includes all questions, I decided to focus on survey year 2019 which is the most recent survey year that includes all questions."
   ]
  },
  {
   "cell_type": "markdown",
   "id": "91f895a3-85aa-4d17-84f4-d7eae9968119",
   "metadata": {},
   "source": [
    "#### IMPORT NECESSARY PACKAGES"
   ]
  },
  {
   "cell_type": "code",
   "execution_count": 1,
   "id": "6545b77c-e4ef-422b-9285-d321c20c0328",
   "metadata": {},
   "outputs": [],
   "source": [
    "# Import data handling packages\n",
    "import pandas as pd\n",
    "import numpy as np"
   ]
  },
  {
   "cell_type": "code",
   "execution_count": 2,
   "id": "7b682c74-9f5f-46c7-84c0-38a3f80f7d54",
   "metadata": {},
   "outputs": [],
   "source": [
    "# Import visualization package\n",
    "import matplotlib.pyplot as plt\n",
    "\n",
    "# Ensure visualization will work within notebook\n",
    "%matplotlib inline"
   ]
  },
  {
   "cell_type": "code",
   "execution_count": 3,
   "id": "c32f3105-cac2-4445-92af-6cdb53e348b4",
   "metadata": {},
   "outputs": [],
   "source": [
    "# Import warnings to ignore/surpress warnings\n",
    "import warnings\n",
    "warnings.filterwarnings(\"ignore\")"
   ]
  },
  {
   "cell_type": "code",
   "execution_count": 4,
   "id": "9d860c0d-bf48-4f57-8efe-7461423d471b",
   "metadata": {},
   "outputs": [],
   "source": [
    "# Import an additional visualization package used for heatmaps\n",
    "import seaborn as sns\n",
    "\n",
    "# Set formatting of plots using this package\n",
    "sns.set(style=\"ticks\")"
   ]
  },
  {
   "cell_type": "code",
   "execution_count": 5,
   "id": "a018c67d-4eac-4684-9f43-92789987473e",
   "metadata": {},
   "outputs": [],
   "source": [
    "# Import the machine learning code required for this analysis project\n",
    "from sklearn.model_selection import train_test_split\n",
    "from sklearn.linear_model import LinearRegression\n",
    "from sklearn import metrics"
   ]
  },
  {
   "cell_type": "code",
   "execution_count": 6,
   "id": "db68044a-1f3a-4ae5-a5cf-6a01c07dd802",
   "metadata": {},
   "outputs": [
    {
     "data": {
      "text/html": [
       "<div>\n",
       "<style scoped>\n",
       "    .dataframe tbody tr th:only-of-type {\n",
       "        vertical-align: middle;\n",
       "    }\n",
       "\n",
       "    .dataframe tbody tr th {\n",
       "        vertical-align: top;\n",
       "    }\n",
       "\n",
       "    .dataframe thead th {\n",
       "        text-align: right;\n",
       "    }\n",
       "</style>\n",
       "<table border=\"1\" class=\"dataframe\">\n",
       "  <thead>\n",
       "    <tr style=\"text-align: right;\">\n",
       "      <th></th>\n",
       "      <th>Q1</th>\n",
       "      <th>Q2</th>\n",
       "      <th>Q3</th>\n",
       "      <th>Q4</th>\n",
       "      <th>Q5</th>\n",
       "      <th>Q6</th>\n",
       "      <th>Q7</th>\n",
       "      <th>Q8</th>\n",
       "      <th>Q9</th>\n",
       "    </tr>\n",
       "  </thead>\n",
       "  <tbody>\n",
       "    <tr>\n",
       "      <th>0</th>\n",
       "      <td>27.4</td>\n",
       "      <td>30.6</td>\n",
       "      <td>55.4</td>\n",
       "      <td>33.5</td>\n",
       "      <td>22.6</td>\n",
       "      <td>38.4</td>\n",
       "      <td>25.9</td>\n",
       "      <td>23.1</td>\n",
       "      <td>18.0</td>\n",
       "    </tr>\n",
       "    <tr>\n",
       "      <th>1</th>\n",
       "      <td>39.5</td>\n",
       "      <td>25.9</td>\n",
       "      <td>41.6</td>\n",
       "      <td>19.7</td>\n",
       "      <td>33.8</td>\n",
       "      <td>28.0</td>\n",
       "      <td>29.4</td>\n",
       "      <td>34.0</td>\n",
       "      <td>30.1</td>\n",
       "    </tr>\n",
       "    <tr>\n",
       "      <th>2</th>\n",
       "      <td>37.5</td>\n",
       "      <td>32.7</td>\n",
       "      <td>58.5</td>\n",
       "      <td>21.3</td>\n",
       "      <td>31.2</td>\n",
       "      <td>36.1</td>\n",
       "      <td>23.0</td>\n",
       "      <td>35.2</td>\n",
       "      <td>17.6</td>\n",
       "    </tr>\n",
       "    <tr>\n",
       "      <th>3</th>\n",
       "      <td>31.6</td>\n",
       "      <td>49.5</td>\n",
       "      <td>44.3</td>\n",
       "      <td>26.0</td>\n",
       "      <td>31.3</td>\n",
       "      <td>38.1</td>\n",
       "      <td>25.0</td>\n",
       "      <td>51.0</td>\n",
       "      <td>25.0</td>\n",
       "    </tr>\n",
       "    <tr>\n",
       "      <th>4</th>\n",
       "      <td>32.9</td>\n",
       "      <td>31.7</td>\n",
       "      <td>48.5</td>\n",
       "      <td>26.0</td>\n",
       "      <td>34.9</td>\n",
       "      <td>39.6</td>\n",
       "      <td>37.0</td>\n",
       "      <td>33.3</td>\n",
       "      <td>23.2</td>\n",
       "    </tr>\n",
       "    <tr>\n",
       "      <th>...</th>\n",
       "      <td>...</td>\n",
       "      <td>...</td>\n",
       "      <td>...</td>\n",
       "      <td>...</td>\n",
       "      <td>...</td>\n",
       "      <td>...</td>\n",
       "      <td>...</td>\n",
       "      <td>...</td>\n",
       "      <td>...</td>\n",
       "    </tr>\n",
       "    <tr>\n",
       "      <th>1328</th>\n",
       "      <td>27.6</td>\n",
       "      <td>35.4</td>\n",
       "      <td>52.5</td>\n",
       "      <td>27.5</td>\n",
       "      <td>20.7</td>\n",
       "      <td>38.6</td>\n",
       "      <td>31.3</td>\n",
       "      <td>41.5</td>\n",
       "      <td>36.0</td>\n",
       "    </tr>\n",
       "    <tr>\n",
       "      <th>1329</th>\n",
       "      <td>25.4</td>\n",
       "      <td>36.8</td>\n",
       "      <td>46.3</td>\n",
       "      <td>25.5</td>\n",
       "      <td>26.4</td>\n",
       "      <td>35.0</td>\n",
       "      <td>22.2</td>\n",
       "      <td>37.5</td>\n",
       "      <td>17.5</td>\n",
       "    </tr>\n",
       "    <tr>\n",
       "      <th>1330</th>\n",
       "      <td>38.7</td>\n",
       "      <td>31.0</td>\n",
       "      <td>35.9</td>\n",
       "      <td>22.3</td>\n",
       "      <td>37.8</td>\n",
       "      <td>36.2</td>\n",
       "      <td>17.8</td>\n",
       "      <td>43.5</td>\n",
       "      <td>22.6</td>\n",
       "    </tr>\n",
       "    <tr>\n",
       "      <th>1331</th>\n",
       "      <td>39.9</td>\n",
       "      <td>43.1</td>\n",
       "      <td>49.7</td>\n",
       "      <td>4.4</td>\n",
       "      <td>32.8</td>\n",
       "      <td>38.2</td>\n",
       "      <td>32.8</td>\n",
       "      <td>40.4</td>\n",
       "      <td>26.4</td>\n",
       "    </tr>\n",
       "    <tr>\n",
       "      <th>1332</th>\n",
       "      <td>35.6</td>\n",
       "      <td>19.9</td>\n",
       "      <td>57.3</td>\n",
       "      <td>18.8</td>\n",
       "      <td>38.3</td>\n",
       "      <td>36.5</td>\n",
       "      <td>25.6</td>\n",
       "      <td>38.4</td>\n",
       "      <td>42.0</td>\n",
       "    </tr>\n",
       "  </tbody>\n",
       "</table>\n",
       "<p>1333 rows × 9 columns</p>\n",
       "</div>"
      ],
      "text/plain": [
       "        Q1    Q2    Q3    Q4    Q5    Q6    Q7    Q8    Q9\n",
       "0     27.4  30.6  55.4  33.5  22.6  38.4  25.9  23.1  18.0\n",
       "1     39.5  25.9  41.6  19.7  33.8  28.0  29.4  34.0  30.1\n",
       "2     37.5  32.7  58.5  21.3  31.2  36.1  23.0  35.2  17.6\n",
       "3     31.6  49.5  44.3  26.0  31.3  38.1  25.0  51.0  25.0\n",
       "4     32.9  31.7  48.5  26.0  34.9  39.6  37.0  33.3  23.2\n",
       "...    ...   ...   ...   ...   ...   ...   ...   ...   ...\n",
       "1328  27.6  35.4  52.5  27.5  20.7  38.6  31.3  41.5  36.0\n",
       "1329  25.4  36.8  46.3  25.5  26.4  35.0  22.2  37.5  17.5\n",
       "1330  38.7  31.0  35.9  22.3  37.8  36.2  17.8  43.5  22.6\n",
       "1331  39.9  43.1  49.7   4.4  32.8  38.2  32.8  40.4  26.4\n",
       "1332  35.6  19.9  57.3  18.8  38.3  36.5  25.6  38.4  42.0\n",
       "\n",
       "[1333 rows x 9 columns]"
      ]
     },
     "execution_count": 6,
     "metadata": {},
     "output_type": "execute_result"
    }
   ],
   "source": [
    "# Data wrangling of original datafile done in separate notebook\n",
    "# Load cleaned datafile\n",
    "\n",
    "data_df = pd.read_csv(\"Data_HHS_CLEANED.csv\")\n",
    "\n",
    "# Remove the first column (containing the ID) from the dataset\n",
    "data_df = data_df.drop([\"Unnamed: 0\"], axis=1)\n",
    "\n",
    "# Display dataset\n",
    "data_df"
   ]
  },
  {
   "cell_type": "code",
   "execution_count": 7,
   "id": "55ced2a9-b119-402f-a09e-9204f877fd9a",
   "metadata": {},
   "outputs": [
    {
     "data": {
      "text/plain": [
       "(1333, 9)"
      ]
     },
     "execution_count": 7,
     "metadata": {},
     "output_type": "execute_result"
    }
   ],
   "source": [
    "# Display number of columns and rows\n",
    "data_df.shape"
   ]
  },
  {
   "cell_type": "markdown",
   "id": "42e2c338-ec51-4e0e-a23e-ae935b4e36c7",
   "metadata": {},
   "source": [
    "**INTERPRETATION** There are 1333 rows and 9 columns (variables). Column labels are defined below:"
   ]
  },
  {
   "cell_type": "markdown",
   "id": "b4a17752-f8d0-4ebe-83ca-a09f6b235775",
   "metadata": {},
   "source": [
    "**Q1:** Percent of adults aged 18 years and older who have an overweight classification<br>\n",
    "**Q2:** Percent of adults aged 18 years and older who have obesity<br>\n",
    "**Q3:** Percent of adults who achieve at least 150 minutes a week of moderate-intensity aerobic physical activity or 75 minutes a week of vigorous-intensity aerobic activity (or an equivalent combination)<br>\n",
    "**Q4:** Percent of adults who achieve at least 150 minutes a week of moderate-intensity aerobic physical activity or 75 minutes a week of vigorous-intensity aerobic physical activity and engage in muscle-strengthening activities on 2 or more days a week<br>\n",
    "**Q5:** Percent of adults who achieve at least 300 minutes a week of moderate-intensity aerobic physical activity or 150 minutes a week of vigorous-intensity aerobic activity (or an equivalent combination)<br>\n",
    "**Q6:** Percent of adults who engage in muscle-strengthening activities on 2 or more days a week<br>\n",
    "**Q7:** Percent of adults who engage in no leisure-time physical activity<br>\n",
    "**Q8:** Percent of adults who report consuming fruit less than one time daily<br>\n",
    "**Q9:** Percent of adults who report consuming vegetables less than one time daily"
   ]
  },
  {
   "cell_type": "markdown",
   "id": "c57e8b15-20a9-479c-b154-d790826ebb59",
   "metadata": {},
   "source": [
    "### PART THREE: INITIAL DATA ANALYSIS"
   ]
  },
  {
   "cell_type": "markdown",
   "id": "fb080a65-96df-45ca-9089-d3ee672c2a45",
   "metadata": {},
   "source": [
    "#### KEY QUESTION: How does being engaged in physical activity affect an adult having obesity?"
   ]
  },
  {
   "cell_type": "markdown",
   "id": "9630bb32-7789-49a4-94be-ad896320686f",
   "metadata": {},
   "source": [
    "#### Determine predictive model\n",
    "\n",
    "\"Obesity results from energy imbalance: too many calories in, too few calories burned. A number of factors influence how many calories (or how much “energy”) people burn each day, among them, age, body size, and genes. But the most variable factor-and the most easily modified-is the amount of activity people get each day (Harvard School of Public Health, 2016).\" Because of the relationship obesity control has with physical activity, a linear regression model seems to be the best fit. Further, the dataset is all numeric which is best suited for this type of predictive model. "
   ]
  },
  {
   "cell_type": "markdown",
   "id": "24c0eab2-5060-4f55-8afe-f82c9b3c8c45",
   "metadata": {},
   "source": [
    "#### Define variables\n",
    "\n",
    "Variable **Q2** will be used as the **outcome variable** since it is the percentage of adults who have obesity. The remaining variables are potential predictor variables."
   ]
  },
  {
   "cell_type": "markdown",
   "id": "c6c1af33-0db9-4281-9b88-99e42654c3e7",
   "metadata": {},
   "source": [
    "#### Dimension reduction\n",
    "Since the question is only concerned about how physical activity affects obesity, Q8 and Q9, both questions about diet, can be eliminated from the dataset. Q1 is a question about overweight classification but will remain in the dataset since it is an important factor in determining obesity."
   ]
  },
  {
   "cell_type": "code",
   "execution_count": 8,
   "id": "6441f6c2-903f-4a2f-931c-e122fcd03c96",
   "metadata": {},
   "outputs": [
    {
     "data": {
      "text/html": [
       "<div>\n",
       "<style scoped>\n",
       "    .dataframe tbody tr th:only-of-type {\n",
       "        vertical-align: middle;\n",
       "    }\n",
       "\n",
       "    .dataframe tbody tr th {\n",
       "        vertical-align: top;\n",
       "    }\n",
       "\n",
       "    .dataframe thead th {\n",
       "        text-align: right;\n",
       "    }\n",
       "</style>\n",
       "<table border=\"1\" class=\"dataframe\">\n",
       "  <thead>\n",
       "    <tr style=\"text-align: right;\">\n",
       "      <th></th>\n",
       "      <th>Q1</th>\n",
       "      <th>Q2</th>\n",
       "      <th>Q3</th>\n",
       "      <th>Q4</th>\n",
       "      <th>Q5</th>\n",
       "      <th>Q6</th>\n",
       "      <th>Q7</th>\n",
       "    </tr>\n",
       "  </thead>\n",
       "  <tbody>\n",
       "    <tr>\n",
       "      <th>0</th>\n",
       "      <td>27.4</td>\n",
       "      <td>30.6</td>\n",
       "      <td>55.4</td>\n",
       "      <td>33.5</td>\n",
       "      <td>22.6</td>\n",
       "      <td>38.4</td>\n",
       "      <td>25.9</td>\n",
       "    </tr>\n",
       "    <tr>\n",
       "      <th>1</th>\n",
       "      <td>39.5</td>\n",
       "      <td>25.9</td>\n",
       "      <td>41.6</td>\n",
       "      <td>19.7</td>\n",
       "      <td>33.8</td>\n",
       "      <td>28.0</td>\n",
       "      <td>29.4</td>\n",
       "    </tr>\n",
       "    <tr>\n",
       "      <th>2</th>\n",
       "      <td>37.5</td>\n",
       "      <td>32.7</td>\n",
       "      <td>58.5</td>\n",
       "      <td>21.3</td>\n",
       "      <td>31.2</td>\n",
       "      <td>36.1</td>\n",
       "      <td>23.0</td>\n",
       "    </tr>\n",
       "    <tr>\n",
       "      <th>3</th>\n",
       "      <td>31.6</td>\n",
       "      <td>49.5</td>\n",
       "      <td>44.3</td>\n",
       "      <td>26.0</td>\n",
       "      <td>31.3</td>\n",
       "      <td>38.1</td>\n",
       "      <td>25.0</td>\n",
       "    </tr>\n",
       "    <tr>\n",
       "      <th>4</th>\n",
       "      <td>32.9</td>\n",
       "      <td>31.7</td>\n",
       "      <td>48.5</td>\n",
       "      <td>26.0</td>\n",
       "      <td>34.9</td>\n",
       "      <td>39.6</td>\n",
       "      <td>37.0</td>\n",
       "    </tr>\n",
       "    <tr>\n",
       "      <th>...</th>\n",
       "      <td>...</td>\n",
       "      <td>...</td>\n",
       "      <td>...</td>\n",
       "      <td>...</td>\n",
       "      <td>...</td>\n",
       "      <td>...</td>\n",
       "      <td>...</td>\n",
       "    </tr>\n",
       "    <tr>\n",
       "      <th>1328</th>\n",
       "      <td>27.6</td>\n",
       "      <td>35.4</td>\n",
       "      <td>52.5</td>\n",
       "      <td>27.5</td>\n",
       "      <td>20.7</td>\n",
       "      <td>38.6</td>\n",
       "      <td>31.3</td>\n",
       "    </tr>\n",
       "    <tr>\n",
       "      <th>1329</th>\n",
       "      <td>25.4</td>\n",
       "      <td>36.8</td>\n",
       "      <td>46.3</td>\n",
       "      <td>25.5</td>\n",
       "      <td>26.4</td>\n",
       "      <td>35.0</td>\n",
       "      <td>22.2</td>\n",
       "    </tr>\n",
       "    <tr>\n",
       "      <th>1330</th>\n",
       "      <td>38.7</td>\n",
       "      <td>31.0</td>\n",
       "      <td>35.9</td>\n",
       "      <td>22.3</td>\n",
       "      <td>37.8</td>\n",
       "      <td>36.2</td>\n",
       "      <td>17.8</td>\n",
       "    </tr>\n",
       "    <tr>\n",
       "      <th>1331</th>\n",
       "      <td>39.9</td>\n",
       "      <td>43.1</td>\n",
       "      <td>49.7</td>\n",
       "      <td>4.4</td>\n",
       "      <td>32.8</td>\n",
       "      <td>38.2</td>\n",
       "      <td>32.8</td>\n",
       "    </tr>\n",
       "    <tr>\n",
       "      <th>1332</th>\n",
       "      <td>35.6</td>\n",
       "      <td>19.9</td>\n",
       "      <td>57.3</td>\n",
       "      <td>18.8</td>\n",
       "      <td>38.3</td>\n",
       "      <td>36.5</td>\n",
       "      <td>25.6</td>\n",
       "    </tr>\n",
       "  </tbody>\n",
       "</table>\n",
       "<p>1333 rows × 7 columns</p>\n",
       "</div>"
      ],
      "text/plain": [
       "        Q1    Q2    Q3    Q4    Q5    Q6    Q7\n",
       "0     27.4  30.6  55.4  33.5  22.6  38.4  25.9\n",
       "1     39.5  25.9  41.6  19.7  33.8  28.0  29.4\n",
       "2     37.5  32.7  58.5  21.3  31.2  36.1  23.0\n",
       "3     31.6  49.5  44.3  26.0  31.3  38.1  25.0\n",
       "4     32.9  31.7  48.5  26.0  34.9  39.6  37.0\n",
       "...    ...   ...   ...   ...   ...   ...   ...\n",
       "1328  27.6  35.4  52.5  27.5  20.7  38.6  31.3\n",
       "1329  25.4  36.8  46.3  25.5  26.4  35.0  22.2\n",
       "1330  38.7  31.0  35.9  22.3  37.8  36.2  17.8\n",
       "1331  39.9  43.1  49.7   4.4  32.8  38.2  32.8\n",
       "1332  35.6  19.9  57.3  18.8  38.3  36.5  25.6\n",
       "\n",
       "[1333 rows x 7 columns]"
      ]
     },
     "execution_count": 8,
     "metadata": {},
     "output_type": "execute_result"
    }
   ],
   "source": [
    "# Remove Q8 and Q9 from dataset\n",
    "\n",
    "data_df_drop = data_df.drop(columns=['Q8', 'Q9'])\n",
    "\n",
    "data_df_drop                "
   ]
  },
  {
   "cell_type": "markdown",
   "id": "542af2b7-e12c-4f4e-8d1c-f79f3f94a2bc",
   "metadata": {},
   "source": [
    "#### Investigate relationship between variables"
   ]
  },
  {
   "cell_type": "markdown",
   "id": "7407c581-6ac8-4787-a72a-9c86892eec09",
   "metadata": {},
   "source": [
    "Calculate the correlation matrix to see the relationship between variables"
   ]
  },
  {
   "cell_type": "code",
   "execution_count": 9,
   "id": "30b7694f-60b6-4f61-885e-17815cedd622",
   "metadata": {},
   "outputs": [
    {
     "data": {
      "text/html": [
       "<div>\n",
       "<style scoped>\n",
       "    .dataframe tbody tr th:only-of-type {\n",
       "        vertical-align: middle;\n",
       "    }\n",
       "\n",
       "    .dataframe tbody tr th {\n",
       "        vertical-align: top;\n",
       "    }\n",
       "\n",
       "    .dataframe thead th {\n",
       "        text-align: right;\n",
       "    }\n",
       "</style>\n",
       "<table border=\"1\" class=\"dataframe\">\n",
       "  <thead>\n",
       "    <tr style=\"text-align: right;\">\n",
       "      <th></th>\n",
       "      <th>Q1</th>\n",
       "      <th>Q2</th>\n",
       "      <th>Q3</th>\n",
       "      <th>Q4</th>\n",
       "      <th>Q5</th>\n",
       "      <th>Q6</th>\n",
       "      <th>Q7</th>\n",
       "    </tr>\n",
       "  </thead>\n",
       "  <tbody>\n",
       "    <tr>\n",
       "      <th>Q1</th>\n",
       "      <td>1.0000</td>\n",
       "      <td>0.0163</td>\n",
       "      <td>0.0138</td>\n",
       "      <td>0.0141</td>\n",
       "      <td>0.0082</td>\n",
       "      <td>0.0075</td>\n",
       "      <td>0.0027</td>\n",
       "    </tr>\n",
       "    <tr>\n",
       "      <th>Q2</th>\n",
       "      <td>0.0163</td>\n",
       "      <td>1.0000</td>\n",
       "      <td>0.0156</td>\n",
       "      <td>0.0227</td>\n",
       "      <td>0.0215</td>\n",
       "      <td>0.0369</td>\n",
       "      <td>0.0601</td>\n",
       "    </tr>\n",
       "    <tr>\n",
       "      <th>Q3</th>\n",
       "      <td>0.0138</td>\n",
       "      <td>0.0156</td>\n",
       "      <td>1.0000</td>\n",
       "      <td>0.0176</td>\n",
       "      <td>0.0194</td>\n",
       "      <td>0.0143</td>\n",
       "      <td>0.0397</td>\n",
       "    </tr>\n",
       "    <tr>\n",
       "      <th>Q4</th>\n",
       "      <td>0.0141</td>\n",
       "      <td>0.0227</td>\n",
       "      <td>0.0176</td>\n",
       "      <td>1.0000</td>\n",
       "      <td>0.0071</td>\n",
       "      <td>0.0385</td>\n",
       "      <td>0.0051</td>\n",
       "    </tr>\n",
       "    <tr>\n",
       "      <th>Q5</th>\n",
       "      <td>0.0082</td>\n",
       "      <td>0.0215</td>\n",
       "      <td>0.0194</td>\n",
       "      <td>0.0071</td>\n",
       "      <td>1.0000</td>\n",
       "      <td>0.0105</td>\n",
       "      <td>0.0393</td>\n",
       "    </tr>\n",
       "    <tr>\n",
       "      <th>Q6</th>\n",
       "      <td>0.0075</td>\n",
       "      <td>0.0369</td>\n",
       "      <td>0.0143</td>\n",
       "      <td>0.0385</td>\n",
       "      <td>0.0105</td>\n",
       "      <td>1.0000</td>\n",
       "      <td>0.0157</td>\n",
       "    </tr>\n",
       "    <tr>\n",
       "      <th>Q7</th>\n",
       "      <td>0.0027</td>\n",
       "      <td>0.0601</td>\n",
       "      <td>0.0397</td>\n",
       "      <td>0.0051</td>\n",
       "      <td>0.0393</td>\n",
       "      <td>0.0157</td>\n",
       "      <td>1.0000</td>\n",
       "    </tr>\n",
       "  </tbody>\n",
       "</table>\n",
       "</div>"
      ],
      "text/plain": [
       "        Q1      Q2      Q3      Q4      Q5      Q6      Q7\n",
       "Q1  1.0000  0.0163  0.0138  0.0141  0.0082  0.0075  0.0027\n",
       "Q2  0.0163  1.0000  0.0156  0.0227  0.0215  0.0369  0.0601\n",
       "Q3  0.0138  0.0156  1.0000  0.0176  0.0194  0.0143  0.0397\n",
       "Q4  0.0141  0.0227  0.0176  1.0000  0.0071  0.0385  0.0051\n",
       "Q5  0.0082  0.0215  0.0194  0.0071  1.0000  0.0105  0.0393\n",
       "Q6  0.0075  0.0369  0.0143  0.0385  0.0105  1.0000  0.0157\n",
       "Q7  0.0027  0.0601  0.0397  0.0051  0.0393  0.0157  1.0000"
      ]
     },
     "execution_count": 9,
     "metadata": {},
     "output_type": "execute_result"
    }
   ],
   "source": [
    "# Calculate correlation coefficients between numeric variables\n",
    "corr_df = data_df_drop.corr().abs().round(4)\n",
    "\n",
    "# Display correlation\n",
    "corr_df"
   ]
  },
  {
   "cell_type": "markdown",
   "id": "29c7c390-72c7-4ed0-994a-5e4bf66060eb",
   "metadata": {},
   "source": [
    "**INTERPRETATION** The correlation matrix shows that the outcome variable Q2 has the highest positive correlation with variable Q7 followed by Q6. However, the correlation coefficients are all near zero indicating there is little linear relationship between Q2 and the potential predictor variables."
   ]
  },
  {
   "cell_type": "markdown",
   "id": "8e328cc1-6ac6-4fb8-b68b-43f7394b16f6",
   "metadata": {},
   "source": [
    "#### Visualization of correlation matrix using a heatmap\n",
    "The correlation matrix can be visualized using a heat map. The minimum is set to 0 since all of the correlation coefficients is greater than 0. This will allow for better visualization of the correlation between variables."
   ]
  },
  {
   "cell_type": "code",
   "execution_count": 10,
   "id": "49a80643-d0c0-4270-a3f3-f6a25c764d4d",
   "metadata": {},
   "outputs": [
    {
     "data": {
      "text/plain": [
       "Text(0.5, 1.0, 'Correlation between Variables')"
      ]
     },
     "execution_count": 10,
     "metadata": {},
     "output_type": "execute_result"
    },
    {
     "data": {
      "image/png": "[encoded data removed]",
      "text/plain": [
       "<Figure size 900x700 with 2 Axes>"
      ]
     },
     "metadata": {},
     "output_type": "display_data"
    }
   ],
   "source": [
    "# Create a heatmap for the correlation values\n",
    "# Setup the plotting area\n",
    "fig, ax = plt.subplots()\n",
    "\n",
    "# With plotting area set, we can set the size of the plot\n",
    "fig.set_size_inches(9, 7)\n",
    "\n",
    "# Create a heatmap based on the correlation values\n",
    "sns.heatmap(corr_df, xticklabels=corr_df.columns, yticklabels=corr_df.columns, \n",
    "            vmin=0, vmax=1, cmap=\"PiYG\", annot=True, fmt=\".2f\", ax=ax)\n",
    "\n",
    "# Format the boxplot\n",
    "ax.set_title(\"Correlation between Variables\")"
   ]
  },
  {
   "cell_type": "markdown",
   "id": "cdd5e1a1-f8c1-4095-930b-91c0c31986fa",
   "metadata": {},
   "source": [
    "**INTERPRETATION** The heat map shows all of the predictor variables close to 0 indicating a minimal linear relationship."
   ]
  },
  {
   "cell_type": "code",
   "execution_count": 11,
   "id": "d7dfa89e-0446-4830-9c10-8823fc77d892",
   "metadata": {},
   "outputs": [
    {
     "data": {
      "text/html": [
       "<div>\n",
       "<style scoped>\n",
       "    .dataframe tbody tr th:only-of-type {\n",
       "        vertical-align: middle;\n",
       "    }\n",
       "\n",
       "    .dataframe tbody tr th {\n",
       "        vertical-align: top;\n",
       "    }\n",
       "\n",
       "    .dataframe thead th {\n",
       "        text-align: right;\n",
       "    }\n",
       "</style>\n",
       "<table border=\"1\" class=\"dataframe\">\n",
       "  <thead>\n",
       "    <tr style=\"text-align: right;\">\n",
       "      <th></th>\n",
       "      <th>Q1</th>\n",
       "      <th>Q2</th>\n",
       "      <th>Q3</th>\n",
       "      <th>Q4</th>\n",
       "      <th>Q5</th>\n",
       "      <th>Q6</th>\n",
       "      <th>Q7</th>\n",
       "    </tr>\n",
       "  </thead>\n",
       "  <tbody>\n",
       "    <tr>\n",
       "      <th>0</th>\n",
       "      <td>27.4</td>\n",
       "      <td>30.6</td>\n",
       "      <td>55.4</td>\n",
       "      <td>33.5</td>\n",
       "      <td>22.6</td>\n",
       "      <td>38.4</td>\n",
       "      <td>25.9</td>\n",
       "    </tr>\n",
       "    <tr>\n",
       "      <th>1</th>\n",
       "      <td>39.5</td>\n",
       "      <td>25.9</td>\n",
       "      <td>41.6</td>\n",
       "      <td>19.7</td>\n",
       "      <td>33.8</td>\n",
       "      <td>28.0</td>\n",
       "      <td>29.4</td>\n",
       "    </tr>\n",
       "    <tr>\n",
       "      <th>2</th>\n",
       "      <td>37.5</td>\n",
       "      <td>32.7</td>\n",
       "      <td>58.5</td>\n",
       "      <td>21.3</td>\n",
       "      <td>31.2</td>\n",
       "      <td>36.1</td>\n",
       "      <td>23.0</td>\n",
       "    </tr>\n",
       "    <tr>\n",
       "      <th>3</th>\n",
       "      <td>31.6</td>\n",
       "      <td>49.5</td>\n",
       "      <td>44.3</td>\n",
       "      <td>26.0</td>\n",
       "      <td>31.3</td>\n",
       "      <td>38.1</td>\n",
       "      <td>25.0</td>\n",
       "    </tr>\n",
       "    <tr>\n",
       "      <th>4</th>\n",
       "      <td>32.9</td>\n",
       "      <td>31.7</td>\n",
       "      <td>48.5</td>\n",
       "      <td>26.0</td>\n",
       "      <td>34.9</td>\n",
       "      <td>39.6</td>\n",
       "      <td>37.0</td>\n",
       "    </tr>\n",
       "  </tbody>\n",
       "</table>\n",
       "</div>"
      ],
      "text/plain": [
       "     Q1    Q2    Q3    Q4    Q5    Q6    Q7\n",
       "0  27.4  30.6  55.4  33.5  22.6  38.4  25.9\n",
       "1  39.5  25.9  41.6  19.7  33.8  28.0  29.4\n",
       "2  37.5  32.7  58.5  21.3  31.2  36.1  23.0\n",
       "3  31.6  49.5  44.3  26.0  31.3  38.1  25.0\n",
       "4  32.9  31.7  48.5  26.0  34.9  39.6  37.0"
      ]
     },
     "execution_count": 11,
     "metadata": {},
     "output_type": "execute_result"
    }
   ],
   "source": [
    "# Create a DataFrame with the analysis variables\n",
    "analysis_df = data_df[[\"Q1\", \"Q2\", \"Q3\", \"Q4\", \"Q5\", \"Q6\", \"Q7\"]]\n",
    "\n",
    "# Display the first several rows of the DataFrame\n",
    "analysis_df.head()"
   ]
  },
  {
   "cell_type": "code",
   "execution_count": 12,
   "id": "fa6a33e1-0387-4ad3-915f-d4dac3fb83b3",
   "metadata": {},
   "outputs": [
    {
     "data": {
      "text/html": [
       "<div>\n",
       "<style scoped>\n",
       "    .dataframe tbody tr th:only-of-type {\n",
       "        vertical-align: middle;\n",
       "    }\n",
       "\n",
       "    .dataframe tbody tr th {\n",
       "        vertical-align: top;\n",
       "    }\n",
       "\n",
       "    .dataframe thead th {\n",
       "        text-align: right;\n",
       "    }\n",
       "</style>\n",
       "<table border=\"1\" class=\"dataframe\">\n",
       "  <thead>\n",
       "    <tr style=\"text-align: right;\">\n",
       "      <th></th>\n",
       "      <th>Q1</th>\n",
       "      <th>Q3</th>\n",
       "      <th>Q4</th>\n",
       "      <th>Q5</th>\n",
       "      <th>Q6</th>\n",
       "      <th>Q7</th>\n",
       "    </tr>\n",
       "  </thead>\n",
       "  <tbody>\n",
       "    <tr>\n",
       "      <th>0</th>\n",
       "      <td>27.4</td>\n",
       "      <td>55.4</td>\n",
       "      <td>33.5</td>\n",
       "      <td>22.6</td>\n",
       "      <td>38.4</td>\n",
       "      <td>25.9</td>\n",
       "    </tr>\n",
       "    <tr>\n",
       "      <th>1</th>\n",
       "      <td>39.5</td>\n",
       "      <td>41.6</td>\n",
       "      <td>19.7</td>\n",
       "      <td>33.8</td>\n",
       "      <td>28.0</td>\n",
       "      <td>29.4</td>\n",
       "    </tr>\n",
       "    <tr>\n",
       "      <th>2</th>\n",
       "      <td>37.5</td>\n",
       "      <td>58.5</td>\n",
       "      <td>21.3</td>\n",
       "      <td>31.2</td>\n",
       "      <td>36.1</td>\n",
       "      <td>23.0</td>\n",
       "    </tr>\n",
       "    <tr>\n",
       "      <th>3</th>\n",
       "      <td>31.6</td>\n",
       "      <td>44.3</td>\n",
       "      <td>26.0</td>\n",
       "      <td>31.3</td>\n",
       "      <td>38.1</td>\n",
       "      <td>25.0</td>\n",
       "    </tr>\n",
       "    <tr>\n",
       "      <th>4</th>\n",
       "      <td>32.9</td>\n",
       "      <td>48.5</td>\n",
       "      <td>26.0</td>\n",
       "      <td>34.9</td>\n",
       "      <td>39.6</td>\n",
       "      <td>37.0</td>\n",
       "    </tr>\n",
       "  </tbody>\n",
       "</table>\n",
       "</div>"
      ],
      "text/plain": [
       "     Q1    Q3    Q4    Q5    Q6    Q7\n",
       "0  27.4  55.4  33.5  22.6  38.4  25.9\n",
       "1  39.5  41.6  19.7  33.8  28.0  29.4\n",
       "2  37.5  58.5  21.3  31.2  36.1  23.0\n",
       "3  31.6  44.3  26.0  31.3  38.1  25.0\n",
       "4  32.9  48.5  26.0  34.9  39.6  37.0"
      ]
     },
     "execution_count": 12,
     "metadata": {},
     "output_type": "execute_result"
    }
   ],
   "source": [
    "# Create a DataFrame with the predictor variables\n",
    "pred_x = data_df[[\"Q1\", \"Q3\", \"Q4\", \"Q5\", \"Q6\", \"Q7\"]]\n",
    "\n",
    "# Display the first several rows of the DataFrame\n",
    "pred_x.head()"
   ]
  },
  {
   "cell_type": "code",
   "execution_count": 13,
   "id": "1c463cc8-5898-4e14-9180-282680e8e8f7",
   "metadata": {},
   "outputs": [],
   "source": [
    "# Identify the outcome variable\n",
    "outcome = \"Q2\"\n",
    "\n",
    "# Create a data structure that contains the outcome variable\n",
    "out_y = data_df[outcome]"
   ]
  },
  {
   "cell_type": "markdown",
   "id": "bfaeb69d-d722-450c-af64-a14db11907ad",
   "metadata": {},
   "source": [
    "#### Partition dataset"
   ]
  },
  {
   "cell_type": "markdown",
   "id": "ba139049-8fd1-46db-9926-e9a4dbde053c",
   "metadata": {},
   "source": [
    "The dataset has 1333 which will be partitioned so that 800 rows will be split as the training and validation datasets. The remaining 533 rows will be used for the testing dataset."
   ]
  },
  {
   "cell_type": "code",
   "execution_count": 14,
   "id": "94cb204c-3084-487c-9aa8-0cba6f1136af",
   "metadata": {},
   "outputs": [],
   "source": [
    "# Obtain the first 800 records for the predictors and outcome variable\n",
    "pred_x_800 = pred_x.iloc[0:400]\n",
    "out_y_800 = out_y.iloc[0:400]"
   ]
  },
  {
   "cell_type": "code",
   "execution_count": 15,
   "id": "885bea96-0d49-46e7-b212-5ed692f72589",
   "metadata": {},
   "outputs": [],
   "source": [
    "# Create training and validation partictions for the predictor and outcome variables using a 60/40 split.\n",
    "# Set the random_state to 1 to avoid randomization (so we can compare answers)\n",
    "train_x, valid_x, train_y, valid_y = train_test_split(pred_x_800, out_y_800, test_size=0.4, random_state=1)"
   ]
  },
  {
   "cell_type": "code",
   "execution_count": 16,
   "id": "cb163431-2316-48d9-841d-ee1470c4925b",
   "metadata": {},
   "outputs": [
    {
     "data": {
      "text/plain": [
       "(240, 6)"
      ]
     },
     "execution_count": 16,
     "metadata": {},
     "output_type": "execute_result"
    }
   ],
   "source": [
    "# View the dimensions of the predictor training data\n",
    "train_x.shape"
   ]
  },
  {
   "cell_type": "code",
   "execution_count": 17,
   "id": "5b873597-fc2f-49cc-8129-5181cf7a0f36",
   "metadata": {},
   "outputs": [
    {
     "data": {
      "text/plain": [
       "(160, 6)"
      ]
     },
     "execution_count": 17,
     "metadata": {},
     "output_type": "execute_result"
    }
   ],
   "source": [
    "# View the dimensions of the predictor validation data\n",
    "valid_x.shape"
   ]
  },
  {
   "cell_type": "code",
   "execution_count": 18,
   "id": "e0a121e6-10a9-47cc-b469-1a970eeb11aa",
   "metadata": {},
   "outputs": [
    {
     "data": {
      "text/html": [
       "<div>\n",
       "<style scoped>\n",
       "    .dataframe tbody tr th:only-of-type {\n",
       "        vertical-align: middle;\n",
       "    }\n",
       "\n",
       "    .dataframe tbody tr th {\n",
       "        vertical-align: top;\n",
       "    }\n",
       "\n",
       "    .dataframe thead th {\n",
       "        text-align: right;\n",
       "    }\n",
       "</style>\n",
       "<table border=\"1\" class=\"dataframe\">\n",
       "  <thead>\n",
       "    <tr style=\"text-align: right;\">\n",
       "      <th></th>\n",
       "      <th>Q1</th>\n",
       "      <th>Q3</th>\n",
       "      <th>Q4</th>\n",
       "      <th>Q5</th>\n",
       "      <th>Q6</th>\n",
       "      <th>Q7</th>\n",
       "    </tr>\n",
       "  </thead>\n",
       "  <tbody>\n",
       "    <tr>\n",
       "      <th>163</th>\n",
       "      <td>29.3</td>\n",
       "      <td>39.0</td>\n",
       "      <td>23.0</td>\n",
       "      <td>28.7</td>\n",
       "      <td>35.1</td>\n",
       "      <td>25.6</td>\n",
       "    </tr>\n",
       "    <tr>\n",
       "      <th>247</th>\n",
       "      <td>36.1</td>\n",
       "      <td>45.1</td>\n",
       "      <td>22.0</td>\n",
       "      <td>35.1</td>\n",
       "      <td>30.0</td>\n",
       "      <td>20.3</td>\n",
       "    </tr>\n",
       "    <tr>\n",
       "      <th>378</th>\n",
       "      <td>41.5</td>\n",
       "      <td>52.0</td>\n",
       "      <td>16.2</td>\n",
       "      <td>24.0</td>\n",
       "      <td>39.1</td>\n",
       "      <td>33.6</td>\n",
       "    </tr>\n",
       "    <tr>\n",
       "      <th>145</th>\n",
       "      <td>25.3</td>\n",
       "      <td>38.5</td>\n",
       "      <td>26.0</td>\n",
       "      <td>27.1</td>\n",
       "      <td>47.3</td>\n",
       "      <td>36.9</td>\n",
       "    </tr>\n",
       "    <tr>\n",
       "      <th>251</th>\n",
       "      <td>24.8</td>\n",
       "      <td>33.2</td>\n",
       "      <td>25.4</td>\n",
       "      <td>30.6</td>\n",
       "      <td>34.6</td>\n",
       "      <td>23.5</td>\n",
       "    </tr>\n",
       "  </tbody>\n",
       "</table>\n",
       "</div>"
      ],
      "text/plain": [
       "       Q1    Q3    Q4    Q5    Q6    Q7\n",
       "163  29.3  39.0  23.0  28.7  35.1  25.6\n",
       "247  36.1  45.1  22.0  35.1  30.0  20.3\n",
       "378  41.5  52.0  16.2  24.0  39.1  33.6\n",
       "145  25.3  38.5  26.0  27.1  47.3  36.9\n",
       "251  24.8  33.2  25.4  30.6  34.6  23.5"
      ]
     },
     "execution_count": 18,
     "metadata": {},
     "output_type": "execute_result"
    }
   ],
   "source": [
    "# View the first several rows of the predictor training data\n",
    "train_x.head()"
   ]
  },
  {
   "cell_type": "code",
   "execution_count": 19,
   "id": "584b230c-5c89-463d-9dac-60a0c1f647a7",
   "metadata": {},
   "outputs": [
    {
     "data": {
      "text/html": [
       "<div>\n",
       "<style scoped>\n",
       "    .dataframe tbody tr th:only-of-type {\n",
       "        vertical-align: middle;\n",
       "    }\n",
       "\n",
       "    .dataframe tbody tr th {\n",
       "        vertical-align: top;\n",
       "    }\n",
       "\n",
       "    .dataframe thead th {\n",
       "        text-align: right;\n",
       "    }\n",
       "</style>\n",
       "<table border=\"1\" class=\"dataframe\">\n",
       "  <thead>\n",
       "    <tr style=\"text-align: right;\">\n",
       "      <th></th>\n",
       "      <th>Q1</th>\n",
       "      <th>Q3</th>\n",
       "      <th>Q4</th>\n",
       "      <th>Q5</th>\n",
       "      <th>Q6</th>\n",
       "      <th>Q7</th>\n",
       "    </tr>\n",
       "  </thead>\n",
       "  <tbody>\n",
       "    <tr>\n",
       "      <th>398</th>\n",
       "      <td>28.2</td>\n",
       "      <td>46.8</td>\n",
       "      <td>17.4</td>\n",
       "      <td>28.3</td>\n",
       "      <td>30.5</td>\n",
       "      <td>20.2</td>\n",
       "    </tr>\n",
       "    <tr>\n",
       "      <th>125</th>\n",
       "      <td>31.5</td>\n",
       "      <td>49.6</td>\n",
       "      <td>17.3</td>\n",
       "      <td>31.2</td>\n",
       "      <td>23.9</td>\n",
       "      <td>46.0</td>\n",
       "    </tr>\n",
       "    <tr>\n",
       "      <th>328</th>\n",
       "      <td>40.3</td>\n",
       "      <td>59.4</td>\n",
       "      <td>24.9</td>\n",
       "      <td>28.7</td>\n",
       "      <td>35.6</td>\n",
       "      <td>34.1</td>\n",
       "    </tr>\n",
       "    <tr>\n",
       "      <th>339</th>\n",
       "      <td>33.6</td>\n",
       "      <td>49.0</td>\n",
       "      <td>13.2</td>\n",
       "      <td>30.4</td>\n",
       "      <td>32.6</td>\n",
       "      <td>19.7</td>\n",
       "    </tr>\n",
       "    <tr>\n",
       "      <th>172</th>\n",
       "      <td>35.7</td>\n",
       "      <td>54.1</td>\n",
       "      <td>24.9</td>\n",
       "      <td>27.1</td>\n",
       "      <td>21.5</td>\n",
       "      <td>39.8</td>\n",
       "    </tr>\n",
       "  </tbody>\n",
       "</table>\n",
       "</div>"
      ],
      "text/plain": [
       "       Q1    Q3    Q4    Q5    Q6    Q7\n",
       "398  28.2  46.8  17.4  28.3  30.5  20.2\n",
       "125  31.5  49.6  17.3  31.2  23.9  46.0\n",
       "328  40.3  59.4  24.9  28.7  35.6  34.1\n",
       "339  33.6  49.0  13.2  30.4  32.6  19.7\n",
       "172  35.7  54.1  24.9  27.1  21.5  39.8"
      ]
     },
     "execution_count": 19,
     "metadata": {},
     "output_type": "execute_result"
    }
   ],
   "source": [
    "# View the first several rows of the predictor validatiom data\n",
    "valid_x.head()"
   ]
  },
  {
   "cell_type": "code",
   "execution_count": 20,
   "id": "dc2f38be-3cd9-4f8e-9104-1ac687b4302b",
   "metadata": {},
   "outputs": [
    {
     "data": {
      "text/plain": [
       "(240,)"
      ]
     },
     "execution_count": 20,
     "metadata": {},
     "output_type": "execute_result"
    }
   ],
   "source": [
    "# View the dimensions of the outcome training data\n",
    "train_y.shape"
   ]
  },
  {
   "cell_type": "code",
   "execution_count": 21,
   "id": "45f5ef2b-22b8-4f3a-9118-dc5beb454e66",
   "metadata": {},
   "outputs": [
    {
     "data": {
      "text/plain": [
       "(160,)"
      ]
     },
     "execution_count": 21,
     "metadata": {},
     "output_type": "execute_result"
    }
   ],
   "source": [
    "# View the dimensions of the outcome validation data\n",
    "valid_y.shape"
   ]
  },
  {
   "cell_type": "code",
   "execution_count": 22,
   "id": "bddc453d-e6e1-4d06-bf47-44a71a463472",
   "metadata": {},
   "outputs": [
    {
     "data": {
      "text/plain": [
       "163    17.5\n",
       "247    26.5\n",
       "378    36.3\n",
       "145    34.6\n",
       "251    26.6\n",
       "Name: Q2, dtype: float64"
      ]
     },
     "execution_count": 22,
     "metadata": {},
     "output_type": "execute_result"
    }
   ],
   "source": [
    "# View the first several rows of the outcome training data\n",
    "train_y.head()"
   ]
  },
  {
   "cell_type": "code",
   "execution_count": 23,
   "id": "1a478271-775b-40f4-b8c1-2f96a0fa8088",
   "metadata": {},
   "outputs": [
    {
     "data": {
      "text/plain": [
       "398    16.3\n",
       "125    49.4\n",
       "328    42.4\n",
       "339    29.3\n",
       "172    43.1\n",
       "Name: Q2, dtype: float64"
      ]
     },
     "execution_count": 23,
     "metadata": {},
     "output_type": "execute_result"
    }
   ],
   "source": [
    "# View the first several rows of the outcome validation data\n",
    "valid_y.head()"
   ]
  },
  {
   "cell_type": "code",
   "execution_count": 24,
   "id": "1325a91e-695f-4e12-81ee-ac1bfb33f85f",
   "metadata": {},
   "outputs": [
    {
     "data": {
      "text/html": [
       "<style>#sk-container-id-1 {color: black;background-color: white;}#sk-container-id-1 pre{padding: 0;}#sk-container-id-1 div.sk-toggleable {background-color: white;}#sk-container-id-1 label.sk-toggleable__label {cursor: pointer;display: block;width: 100%;margin-bottom: 0;padding: 0.3em;box-sizing: border-box;text-align: center;}#sk-container-id-1 label.sk-toggleable__label-arrow:before {content: \"▸\";float: left;margin-right: 0.25em;color: #696969;}#sk-container-id-1 label.sk-toggleable__label-arrow:hover:before {color: black;}#sk-container-id-1 div.sk-estimator:hover label.sk-toggleable__label-arrow:before {color: black;}#sk-container-id-1 div.sk-toggleable__content {max-height: 0;max-width: 0;overflow: hidden;text-align: left;background-color: #f0f8ff;}#sk-container-id-1 div.sk-toggleable__content pre {margin: 0.2em;color: black;border-radius: 0.25em;background-color: #f0f8ff;}#sk-container-id-1 input.sk-toggleable__control:checked~div.sk-toggleable__content {max-height: 200px;max-width: 100%;overflow: auto;}#sk-container-id-1 input.sk-toggleable__control:checked~label.sk-toggleable__label-arrow:before {content: \"▾\";}#sk-container-id-1 div.sk-estimator input.sk-toggleable__control:checked~label.sk-toggleable__label {background-color: #d4ebff;}#sk-container-id-1 div.sk-label input.sk-toggleable__control:checked~label.sk-toggleable__label {background-color: #d4ebff;}#sk-container-id-1 input.sk-hidden--visually {border: 0;clip: rect(1px 1px 1px 1px);clip: rect(1px, 1px, 1px, 1px);height: 1px;margin: -1px;overflow: hidden;padding: 0;position: absolute;width: 1px;}#sk-container-id-1 div.sk-estimator {font-family: monospace;background-color: #f0f8ff;border: 1px dotted black;border-radius: 0.25em;box-sizing: border-box;margin-bottom: 0.5em;}#sk-container-id-1 div.sk-estimator:hover {background-color: #d4ebff;}#sk-container-id-1 div.sk-parallel-item::after {content: \"\";width: 100%;border-bottom: 1px solid gray;flex-grow: 1;}#sk-container-id-1 div.sk-label:hover label.sk-toggleable__label {background-color: #d4ebff;}#sk-container-id-1 div.sk-serial::before {content: \"\";position: absolute;border-left: 1px solid gray;box-sizing: border-box;top: 0;bottom: 0;left: 50%;z-index: 0;}#sk-container-id-1 div.sk-serial {display: flex;flex-direction: column;align-items: center;background-color: white;padding-right: 0.2em;padding-left: 0.2em;position: relative;}#sk-container-id-1 div.sk-item {position: relative;z-index: 1;}#sk-container-id-1 div.sk-parallel {display: flex;align-items: stretch;justify-content: center;background-color: white;position: relative;}#sk-container-id-1 div.sk-item::before, #sk-container-id-1 div.sk-parallel-item::before {content: \"\";position: absolute;border-left: 1px solid gray;box-sizing: border-box;top: 0;bottom: 0;left: 50%;z-index: -1;}#sk-container-id-1 div.sk-parallel-item {display: flex;flex-direction: column;z-index: 1;position: relative;background-color: white;}#sk-container-id-1 div.sk-parallel-item:first-child::after {align-self: flex-end;width: 50%;}#sk-container-id-1 div.sk-parallel-item:last-child::after {align-self: flex-start;width: 50%;}#sk-container-id-1 div.sk-parallel-item:only-child::after {width: 0;}#sk-container-id-1 div.sk-dashed-wrapped {border: 1px dashed gray;margin: 0 0.4em 0.5em 0.4em;box-sizing: border-box;padding-bottom: 0.4em;background-color: white;}#sk-container-id-1 div.sk-label label {font-family: monospace;font-weight: bold;display: inline-block;line-height: 1.2em;}#sk-container-id-1 div.sk-label-container {text-align: center;}#sk-container-id-1 div.sk-container {/* jupyter's `normalize.less` sets `[hidden] { display: none; }` but bootstrap.min.css set `[hidden] { display: none !important; }` so we also need the `!important` here to be able to override the default hidden behavior on the sphinx rendered scikit-learn.org. See: https://github.com/scikit-learn/scikit-learn/issues/21755 */display: inline-block !important;position: relative;}#sk-container-id-1 div.sk-text-repr-fallback {display: none;}</style><div id=\"sk-container-id-1\" class=\"sk-top-container\"><div class=\"sk-text-repr-fallback\"><pre>LinearRegression()</pre><b>In a Jupyter environment, please rerun this cell to show the HTML representation or trust the notebook. <br />On GitHub, the HTML representation is unable to render, please try loading this page with nbviewer.org.</b></div><div class=\"sk-container\" hidden><div class=\"sk-item\"><div class=\"sk-estimator sk-toggleable\"><input class=\"sk-toggleable__control sk-hidden--visually\" id=\"sk-estimator-id-1\" type=\"checkbox\" checked><label for=\"sk-estimator-id-1\" class=\"sk-toggleable__label sk-toggleable__label-arrow\">LinearRegression</label><div class=\"sk-toggleable__content\"><pre>LinearRegression()</pre></div></div></div></div></div>"
      ],
      "text/plain": [
       "LinearRegression()"
      ]
     },
     "execution_count": 24,
     "metadata": {},
     "output_type": "execute_result"
    }
   ],
   "source": [
    "# Create the linear regression model\n",
    "model = LinearRegression()\n",
    "\n",
    "# Fit the model to the training dataset\n",
    "model.fit(train_x, train_y)"
   ]
  },
  {
   "cell_type": "code",
   "execution_count": 25,
   "id": "618a833e-1492-4a55-91c1-18e856e37ed1",
   "metadata": {},
   "outputs": [
    {
     "data": {
      "text/plain": [
       "30.745706588416223"
      ]
     },
     "execution_count": 25,
     "metadata": {},
     "output_type": "execute_result"
    }
   ],
   "source": [
    "# View the intercept calculated by the model\n",
    "model.intercept_"
   ]
  },
  {
   "cell_type": "code",
   "execution_count": 26,
   "id": "11d78ac8-5989-4d5a-9541-ade5f28729d9",
   "metadata": {},
   "outputs": [
    {
     "data": {
      "text/html": [
       "<div>\n",
       "<style scoped>\n",
       "    .dataframe tbody tr th:only-of-type {\n",
       "        vertical-align: middle;\n",
       "    }\n",
       "\n",
       "    .dataframe tbody tr th {\n",
       "        vertical-align: top;\n",
       "    }\n",
       "\n",
       "    .dataframe thead th {\n",
       "        text-align: right;\n",
       "    }\n",
       "</style>\n",
       "<table border=\"1\" class=\"dataframe\">\n",
       "  <thead>\n",
       "    <tr style=\"text-align: right;\">\n",
       "      <th></th>\n",
       "      <th>Coefficient</th>\n",
       "    </tr>\n",
       "  </thead>\n",
       "  <tbody>\n",
       "    <tr>\n",
       "      <th>Q1</th>\n",
       "      <td>0.062469</td>\n",
       "    </tr>\n",
       "    <tr>\n",
       "      <th>Q3</th>\n",
       "      <td>0.009047</td>\n",
       "    </tr>\n",
       "    <tr>\n",
       "      <th>Q4</th>\n",
       "      <td>-0.035905</td>\n",
       "    </tr>\n",
       "    <tr>\n",
       "      <th>Q5</th>\n",
       "      <td>0.029033</td>\n",
       "    </tr>\n",
       "    <tr>\n",
       "      <th>Q6</th>\n",
       "      <td>-0.000311</td>\n",
       "    </tr>\n",
       "    <tr>\n",
       "      <th>Q7</th>\n",
       "      <td>-0.043966</td>\n",
       "    </tr>\n",
       "  </tbody>\n",
       "</table>\n",
       "</div>"
      ],
      "text/plain": [
       "    Coefficient\n",
       "Q1     0.062469\n",
       "Q3     0.009047\n",
       "Q4    -0.035905\n",
       "Q5     0.029033\n",
       "Q6    -0.000311\n",
       "Q7    -0.043966"
      ]
     },
     "execution_count": 26,
     "metadata": {},
     "output_type": "execute_result"
    }
   ],
   "source": [
    "# Create a DataFrame containing the calculated coefficients\n",
    "coefficients = pd.DataFrame({\"Coefficient\" : model.coef_}, index=pred_x_800.columns)\n",
    "\n",
    "# Display the coefficients for each predictor\n",
    "coefficients"
   ]
  },
  {
   "cell_type": "markdown",
   "id": "55b60b8f-6f94-4614-b95e-a6bc6557634c",
   "metadata": {},
   "source": [
    "#### Write multiple linear regression model equation"
   ]
  },
  {
   "cell_type": "markdown",
   "id": "9d1b6338-ce99-4985-9b34-10c7eacbc281",
   "metadata": {},
   "source": [
    "Using the calculated intercept and predictor coefficients, the linear model can be written as:\n",
    "\n",
    "$$y = 30.74571 + 0.062469Q1 + 0.009047Q3 - 0.035905Q4 + 0.029033Q5 - 0.000311Q6 - 0.043966Q7$$\n",
    "\n",
    "where y is the predicted percentage that an adult who has obesity based on the following factors:\n",
    "\n",
    "* Percent of adults aged 18 years and older who have an overweight classification (Q1)\n",
    "* Percent of adults who achieve at least 150 minutes a week of moderate-intensity aerobic physical activity or 75 minutes a week of vigorous-intensity aerobic activity (or an equivalent combination) (Q3)<br>\n",
    "* Percent of adults who achieve at least 150 minutes a week of moderate-intensity aerobic physical activity or 75 minutes a week of vigorous-intensity aerobic physical activity and engage in muscle-strengthening activities on 2 or more days a week (Q4)<br>\n",
    "* Percent of adults who achieve at least 300 minutes a week of moderate-intensity aerobic physical activity or 150 minutes a week of vigorous-intensity aerobic activity (or an equivalent combination) (Q5)<br>\n",
    "* Percent of adults who engage in muscle-strengthening activities on 2 or more days a week (Q6)<br>\n",
    "* Percent of adults who engage in no leisure-time physical activity (Q7)<br>\n"
   ]
  },
  {
   "cell_type": "markdown",
   "id": "39a698db-63ed-4519-bd30-dfcd0001fcd0",
   "metadata": {},
   "source": [
    "**INTERPRETATION** The following can be inferred from the multiple linear regression model:\n",
    "* The predicted percentage of adults who have obesity is 30.75% keeping all independent variables constant.\n",
    "* The predicted percentage *increases* by 0.06 for one unit of change in Q1 while keeping all other independent variables constant.\n",
    "* The predicted percentage *increases* by 0.01 for one unit of change in Q3 while keeping all other independent variables constant.\n",
    "* The predicted percentage *decreases* by 0.04 for one unit of change in Q4 while keeping all other independent variables constant.\n",
    "* The predicted percentage *increases* by 0.03 for one unit of change in Q5 while keeping all other independent variables constant.\n",
    "* The predicted percentage *decreases* by 0.00 for one unit of change in Q6 while keeping all other independent variables constant.\n",
    "* The predicted percentage *decreases* by 0.04 for one unit of change in Q7 while keeping all other independent variables constant.\n",
    "\n",
    "It is noted that all of the coefficients for the independent variables are near zero so the expected change to the predicted outcome is going to be very minimal. This can also indicate that the linear model may not be useful as a predictive tool. The linear model outcome is not what I expected given the relationship obesity control has with physical activity."
   ]
  },
  {
   "cell_type": "markdown",
   "id": "2f6c60b2-72ad-4ac3-8a0d-f29b273667f0",
   "metadata": {},
   "source": [
    "**REFERENCES**<br>\n",
    "Harvard School of Public Health. (2016). Physical activity. Obesity prevention source.  https://www.hsph.harvard.edu/obesity-prevention-source/obesity-causes/physical-activity-and-obesity/\n",
    "‌"
   ]
  },
  {
   "cell_type": "markdown",
   "id": "63a73dab-2865-4694-a1c1-ed2b2694e3a8",
   "metadata": {},
   "source": [
    "### PART FOUR: FINAL REPORT AND PRESENTATION\n",
    "\n",
    "INCLUDED FILES\n",
    "\n",
    "* Data file: Data_HHS_CLEANED.csv\n",
    "* Presentation file: Fitzgerald - Project Presentation Video.mp4\n",
    "* Data dictionary: Project Data Dictionary CLEANED DATA.xlsx"
   ]
  },
  {
   "cell_type": "markdown",
   "id": "964705ba-1f06-4fdf-b7d1-6f1473003df7",
   "metadata": {},
   "source": [
    "### Lessons learned\n",
    "\n",
    "The main skill I learned from this project is how to code in Python. This course was my the first time coding so I did a lot of research and self-learning about Python coding for this project. I realized that coding has a similar logic as doing math problems. So my approach to learning Python was to think about the logic needed for the correct outcome for each cell in the Jupyter notebook. My main disappointment about this project is the result of my linear regression model. It did not produce a strong outcome as I would have predicted given the relationship between the independent variables and the dependent variable. The regression outcome could have been my interpretation of the data. Despite the poor outcome of the regression, I see it as part of the process of learning and an opportunity to learn from it. I do think having a single project to work through to learn Python was really instructive."
   ]
  },
  {
   "cell_type": "markdown",
   "id": "b6262628-27b7-4b62-ae43-a12ec10ca628",
   "metadata": {},
   "source": [
    "### Executive presentation\n",
    "Creating this presentation allowed me to learn more about how to use PowerPoint. PowerPoint is a very marketable skill to have so I was glad to have the opportunity to make this presentation. The most difficult part about making the presentation was editing the information from the analysis to fit the 5 minute maximum. The analysis has so much relevant information and to decide what should or should not be included in the 5 mintues was challenging."
   ]
  },
  {
   "cell_type": "markdown",
   "id": "7915577d-21eb-47f0-aefa-67373026818c",
   "metadata": {},
   "source": [
    "**REFERENCES**<br>\n",
    "\n",
    "Caspersen, C. J., Powell, K. E., & Christenson, G. M. (1985). Physical activity, exercise, and physical fitness: definitions and distinctions for health-related research. Public Health Reports (Washington, D.C.: 1974), 100(2), 126–131. https://pubmed.ncbi.nlm.nih.gov/3920711/#:~:text=Physical%20activity%20is%20defined%20as \n",
    "\n",
    "Centers for Disease Control and Prevention. (2019). Physical Activity Prevents Chronic Disease. Physical Activity Prevents Chronic Disease. https://www.cdc.gov/chronicdisease/resources/infographic/physical-activity.htm \n",
    "\n",
    "Centers for Disease Control and Prevention. (2022, September 24). The health effects of overweight and obesity . Centers for Disease Control and Prevention. https://www.cdc.gov/healthyweight/effects/index.html\n",
    "\n",
    "Centers for Disease Control and Prevention. (2023, April 26). Physical Activity for a Healthy Weight . Centers for Disease Control and Prevention; CDC. https://www.cdc.gov/healthyweight/physical_activity/index.html \n",
    "\n",
    "Obesity consequences. (2016, April 12). Obesity Prevention Source. https://www.hsph.harvard.edu/obesity-prevention-source/obesity-consequences/#:~:text=Like%20tobacco%2C%20obesity%20causes%20or "
   ]
  }
 ],
 "metadata": {
  "kernelspec": {
   "display_name": "Python 3 (ipykernel)",
   "language": "python",
   "name": "python3"
  },
  "language_info": {
   "codemirror_mode": {
    "name": "ipython",
    "version": 3
   },
   "file_extension": ".py",
   "mimetype": "text/x-python",
   "name": "python",
   "nbconvert_exporter": "python",
   "pygments_lexer": "ipython3",
   "version": "3.11.5"
  }
 },
 "nbformat": 4,
 "nbformat_minor": 5
}
